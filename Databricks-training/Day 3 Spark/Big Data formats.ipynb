{
 "cells": [
  {
   "cell_type": "code",
   "execution_count": 0,
   "metadata": {
    "application/vnd.databricks.v1+cell": {
     "cellMetadata": {},
     "inputWidgets": {},
     "nuid": "ab9a84e4-7e25-41d9-bba4-985c6d4f5fdd",
     "showTitle": false,
     "tableResultSettingsMap": {},
     "title": ""
    }
   },
   "outputs": [],
   "source": [
    "csv,json,parquet,avro, orc, xml, xls, etc etc\n",
    "\n",
    "parquet\n",
    "\n",
    "\n",
    "csv(1gb)\n",
    "\n",
    "60%-90%, 97%\n",
    "\n",
    "parquet (17mb)\n",
    "\n",
    "limitation\n",
    "ACID\n",
    "time travel\n",
    "schema evolution\n",
    "streaming and batch "
   ]
  },
  {
   "cell_type": "code",
   "execution_count": 0,
   "metadata": {
    "application/vnd.databricks.v1+cell": {
     "cellMetadata": {},
     "inputWidgets": {},
     "nuid": "373496fd-210a-4eec-9e01-43e8bad2ba0e",
     "showTitle": false,
     "tableResultSettingsMap": {},
     "title": ""
    }
   },
   "outputs": [],
   "source": [
    "Advanced table formats: Iceberg, Delta, Hudi (Uniform)-- help you to build lakehouse\n",
    "\n",
    "Iceberg (Parquet) (Open source) \n",
    "Delta Lake (Parquet)(open source)--- databricks  \n",
    "Hudi (Parquet)"
   ]
  }
 ],
 "metadata": {
  "application/vnd.databricks.v1+notebook": {
   "computePreferences": null,
   "dashboards": [],
   "environmentMetadata": {
    "base_environment": "",
    "environment_version": "2"
   },
   "inputWidgetPreferences": null,
   "language": "sql",
   "notebookMetadata": {
    "pythonIndentUnit": 4
   },
   "notebookName": "Big Data formats",
   "widgets": {}
  },
  "language_info": {
   "name": "sql"
  }
 },
 "nbformat": 4,
 "nbformat_minor": 0
}

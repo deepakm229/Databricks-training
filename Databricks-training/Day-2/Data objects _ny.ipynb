{
 "cells": [
  {
   "cell_type": "markdown",
   "metadata": {
    "application/vnd.databricks.v1+cell": {
     "cellMetadata": {},
     "inputWidgets": {},
     "nuid": "a889ba60-a21b-4e25-ac8b-22884b49529e",
     "showTitle": false,
     "tableResultSettingsMap": {},
     "title": ""
    }
   },
   "source": [
    "![](/Volumes/auto/naval/raw/object-model.png)"
   ]
  },
  {
   "cell_type": "markdown",
   "metadata": {
    "application/vnd.databricks.v1+cell": {
     "cellMetadata": {},
     "inputWidgets": {},
     "nuid": "ee7f2fd6-e148-4fb5-9ac2-ad6118ce40c3",
     "showTitle": false,
     "tableResultSettingsMap": {},
     "title": ""
    }
   },
   "source": [
    "### Database objects in databricks"
   ]
  },
  {
   "cell_type": "code",
   "execution_count": 0,
   "metadata": {
    "application/vnd.databricks.v1+cell": {
     "cellMetadata": {},
     "inputWidgets": {},
     "nuid": "887cf941-930c-4f58-afb6-0531dd810b11",
     "showTitle": true,
     "tableResultSettingsMap": {},
     "title": "link"
    }
   },
   "outputs": [],
   "source": [
    "%python\n",
    "https://docs.databricks.com/aws/en/database-objects/"
   ]
  },
  {
   "cell_type": "code",
   "execution_count": 0,
   "metadata": {
    "application/vnd.databricks.v1+cell": {
     "cellMetadata": {
      "byteLimit": 2048000,
      "rowLimit": 10000
     },
     "inputWidgets": {},
     "nuid": "a053c122-c2c1-4df7-ba82-5c072bf49b1d",
     "showTitle": true,
     "tableResultSettingsMap": {},
     "title": "create schema"
    }
   },
   "outputs": [],
   "source": [
    "use catalog auto;\n",
    "create schema if not exists auto.naval;"
   ]
  },
  {
   "cell_type": "code",
   "execution_count": 0,
   "metadata": {
    "application/vnd.databricks.v1+cell": {
     "cellMetadata": {
      "byteLimit": 2048000,
      "rowLimit": 10000
     },
     "inputWidgets": {},
     "nuid": "df4d770e-9547-43d2-bbc8-d5f2260124be",
     "showTitle": false,
     "tableResultSettingsMap": {},
     "title": ""
    }
   },
   "outputs": [],
   "source": [
    "create table if not exists auto.naval.demo ( id int, name string)"
   ]
  },
  {
   "cell_type": "code",
   "execution_count": 0,
   "metadata": {
    "application/vnd.databricks.v1+cell": {
     "cellMetadata": {
      "byteLimit": 2048000,
      "rowLimit": 10000
     },
     "inputWidgets": {},
     "nuid": "b5803ec4-d185-4ae8-ace3-052c0d768216",
     "showTitle": false,
     "tableResultSettingsMap": {},
     "title": ""
    }
   },
   "outputs": [],
   "source": [
    "insert into auto.naval.demo values (2,'Ketki'),(3,'Praveen')"
   ]
  },
  {
   "cell_type": "code",
   "execution_count": 0,
   "metadata": {
    "application/vnd.databricks.v1+cell": {
     "cellMetadata": {
      "byteLimit": 2048000,
      "rowLimit": 10000
     },
     "inputWidgets": {},
     "nuid": "cd8b081f-558d-4587-a6a1-007bd3c6c3f8",
     "showTitle": true,
     "tableResultSettingsMap": {},
     "title": "View"
    }
   },
   "outputs": [],
   "source": [
    "create view auto.naval.demo_view as \n",
    "select * from auto.naval.demo where id =1 "
   ]
  },
  {
   "cell_type": "code",
   "execution_count": 0,
   "metadata": {
    "application/vnd.databricks.v1+cell": {
     "cellMetadata": {},
     "inputWidgets": {},
     "nuid": "f76e6f07-7bf1-4c42-8677-5754ce269f8f",
     "showTitle": true,
     "tableResultSettingsMap": {},
     "title": "Task"
    }
   },
   "outputs": [],
   "source": [
    "Task;\n",
    "\n",
    "1. create schema with yourname in auto catalog;\n",
    "2. create demo table in your schema \n",
    "3. insert values "
   ]
  },
  {
   "cell_type": "code",
   "execution_count": 0,
   "metadata": {
    "application/vnd.databricks.v1+cell": {
     "cellMetadata": {},
     "inputWidgets": {},
     "nuid": "817d4a57-1aef-4f4f-9116-dae8cd16ad69",
     "showTitle": true,
     "tableResultSettingsMap": {},
     "title": "functions"
    }
   },
   "outputs": [],
   "source": [
    "create function function_name(para datatypes)\n",
    "returns datatypes\n",
    "return logic/expression"
   ]
  },
  {
   "cell_type": "code",
   "execution_count": 0,
   "metadata": {
    "application/vnd.databricks.v1+cell": {
     "cellMetadata": {
      "byteLimit": 2048000,
      "rowLimit": 10000
     },
     "inputWidgets": {},
     "nuid": "dbd8882c-347f-423e-9d84-a80dbf77a413",
     "showTitle": false,
     "tableResultSettingsMap": {},
     "title": ""
    }
   },
   "outputs": [],
   "source": [
    "use catalog auto;\n",
    "use schema naval;"
   ]
  },
  {
   "cell_type": "code",
   "execution_count": 0,
   "metadata": {
    "application/vnd.databricks.v1+cell": {
     "cellMetadata": {
      "byteLimit": 2048000,
      "rowLimit": 10000
     },
     "inputWidgets": {},
     "nuid": "bbf4ed1f-4b80-41a0-aa79-4fcc603cabeb",
     "showTitle": false,
     "tableResultSettingsMap": {},
     "title": ""
    }
   },
   "outputs": [],
   "source": [
    "create or replace function auto.naval.full_name(firstname string, lastname string)\n",
    "returns string\n",
    "return concat(firstname, \" \", lastname)"
   ]
  },
  {
   "cell_type": "code",
   "execution_count": 0,
   "metadata": {
    "application/vnd.databricks.v1+cell": {
     "cellMetadata": {
      "byteLimit": 2048000,
      "rowLimit": 10000
     },
     "inputWidgets": {},
     "nuid": "18f42b1b-718a-4979-aa6b-b5eca8f47096",
     "showTitle": false,
     "tableResultSettingsMap": {},
     "title": ""
    }
   },
   "outputs": [],
   "source": [
    "select auto.naval.full_name(\"Naval\",\"Yemul\") as full_name"
   ]
  },
  {
   "cell_type": "code",
   "execution_count": 0,
   "metadata": {
    "application/vnd.databricks.v1+cell": {
     "cellMetadata": {
      "byteLimit": 2048000,
      "rowLimit": 10000
     },
     "inputWidgets": {},
     "nuid": "7c77e07b-092f-4ea6-abfb-a027d51b9afe",
     "showTitle": true,
     "tableResultSettingsMap": {},
     "title": "Naval"
    }
   },
   "outputs": [],
   "source": [
    "select \"naval\""
   ]
  },
  {
   "cell_type": "code",
   "execution_count": 0,
   "metadata": {
    "application/vnd.databricks.v1+cell": {
     "cellMetadata": {
      "byteLimit": 2048000,
      "rowLimit": 10000
     },
     "inputWidgets": {},
     "nuid": "dc1da4db-598c-4d2a-bfc4-9d1bdb23b618",
     "showTitle": true,
     "tableResultSettingsMap": {},
     "title": "Ramakrishna"
    }
   },
   "outputs": [],
   "source": [
    "%scala\n",
    "println(\"my scala lines\")"
   ]
  },
  {
   "cell_type": "code",
   "execution_count": 0,
   "metadata": {
    "application/vnd.databricks.v1+cell": {
     "cellMetadata": {
      "byteLimit": 2048000,
      "rowLimit": 10000
     },
     "inputWidgets": {},
     "nuid": "3e968758-fe37-4a14-8264-9b9e85299f80",
     "showTitle": true,
     "tableResultSettingsMap": {},
     "title": "Arun Alexander"
    }
   },
   "outputs": [],
   "source": [
    "%python\n",
    "print(\"Hello World\")\n",
    "a=10\n",
    "b=90\n",
    "print(a + b)"
   ]
  },
  {
   "cell_type": "code",
   "execution_count": 0,
   "metadata": {
    "application/vnd.databricks.v1+cell": {
     "cellMetadata": {
      "byteLimit": 2048000,
      "rowLimit": 10000
     },
     "inputWidgets": {},
     "nuid": "9b04516f-edd7-42d8-9b30-592625f1731e",
     "showTitle": true,
     "tableResultSettingsMap": {},
     "title": "swarupa"
    }
   },
   "outputs": [],
   "source": [
    "%python\n",
    "print( \"Hello Naval\")"
   ]
  },
  {
   "cell_type": "code",
   "execution_count": 0,
   "metadata": {
    "application/vnd.databricks.v1+cell": {
     "cellMetadata": {
      "byteLimit": 2048000,
      "rowLimit": 10000
     },
     "inputWidgets": {},
     "nuid": "3568f415-aa87-4397-8166-8f4848ba3fee",
     "showTitle": true,
     "tableResultSettingsMap": {},
     "title": "Manju"
    }
   },
   "outputs": [],
   "source": [
    "%python\n",
    "print( \"Hello Manju\")"
   ]
  },
  {
   "cell_type": "code",
   "execution_count": 0,
   "metadata": {
    "application/vnd.databricks.v1+cell": {
     "cellMetadata": {
      "byteLimit": 2048000,
      "rowLimit": 10000
     },
     "inputWidgets": {},
     "nuid": "ae06053e-dfea-46db-915c-765ccf9aedde",
     "showTitle": true,
     "tableResultSettingsMap": {},
     "title": "Sumeet"
    }
   },
   "outputs": [],
   "source": [
    "SELECT full_name(\"Sumeet\",\"Sahu\") as full_name"
   ]
  },
  {
   "cell_type": "code",
   "execution_count": 0,
   "metadata": {
    "application/vnd.databricks.v1+cell": {
     "cellMetadata": {
      "byteLimit": 2048000,
      "rowLimit": 10000
     },
     "inputWidgets": {},
     "nuid": "55504b25-257a-474e-afd2-451a81f18556",
     "showTitle": true,
     "tableResultSettingsMap": {},
     "title": "Karthik"
    }
   },
   "outputs": [],
   "source": [
    "SELECT \"Karthik\""
   ]
  },
  {
   "cell_type": "code",
   "execution_count": 0,
   "metadata": {
    "application/vnd.databricks.v1+cell": {
     "cellMetadata": {
      "byteLimit": 2048000,
      "rowLimit": 10000
     },
     "inputWidgets": {},
     "nuid": "9f8915ec-58ce-4292-97bd-7d01959d4e58",
     "showTitle": true,
     "tableResultSettingsMap": {},
     "title": "Arijit"
    }
   },
   "outputs": [],
   "source": [
    "%python\n",
    "print(\"Please stay away from this cell\")"
   ]
  },
  {
   "cell_type": "code",
   "execution_count": 0,
   "metadata": {
    "application/vnd.databricks.v1+cell": {
     "cellMetadata": {
      "byteLimit": 2048000,
      "rowLimit": 10000
     },
     "inputWidgets": {},
     "nuid": "02cdd807-7dc6-4fdb-bb37-465bb8964a2b",
     "showTitle": true,
     "tableResultSettingsMap": {},
     "title": "Nirmith"
    }
   },
   "outputs": [],
   "source": [
    "%python\n",
    "print(\"hey\")"
   ]
  },
  {
   "cell_type": "code",
   "execution_count": 0,
   "metadata": {
    "application/vnd.databricks.v1+cell": {
     "cellMetadata": {
      "byteLimit": 2048000,
      "rowLimit": 10000
     },
     "inputWidgets": {},
     "nuid": "aa10c8e8-f8f9-426c-8521-8a2be3b95634",
     "showTitle": true,
     "tableResultSettingsMap": {},
     "title": "Praveen"
    }
   },
   "outputs": [],
   "source": [
    "select * from auto.praveen.df1"
   ]
  },
  {
   "cell_type": "code",
   "execution_count": 0,
   "metadata": {
    "application/vnd.databricks.v1+cell": {
     "cellMetadata": {
      "byteLimit": 2048000,
      "rowLimit": 10000
     },
     "inputWidgets": {},
     "nuid": "0d6f9177-6e47-4a0f-b19b-3eafcb8afb14",
     "showTitle": true,
     "tableResultSettingsMap": {},
     "title": "Zoohaib"
    }
   },
   "outputs": [],
   "source": [
    "%python\n",
    "print(\"Zoohaib\")"
   ]
  },
  {
   "cell_type": "code",
   "execution_count": 0,
   "metadata": {
    "application/vnd.databricks.v1+cell": {
     "cellMetadata": {
      "byteLimit": 2048000,
      "rowLimit": 10000
     },
     "inputWidgets": {},
     "nuid": "278ab608-b726-4674-b75e-5f79118535f5",
     "showTitle": true,
     "tableResultSettingsMap": {},
     "title": "Rishika"
    }
   },
   "outputs": [],
   "source": [
    "%python \n",
    "print(\"Rishika\")"
   ]
  },
  {
   "cell_type": "code",
   "execution_count": 0,
   "metadata": {
    "application/vnd.databricks.v1+cell": {
     "cellMetadata": {
      "byteLimit": 2048000,
      "rowLimit": 10000
     },
     "inputWidgets": {},
     "nuid": "e06714bf-90df-4d5b-abcd-a3a71ae10e18",
     "showTitle": false,
     "tableResultSettingsMap": {},
     "title": ""
    }
   },
   "outputs": [],
   "source": [
    "%python \n",
    "print(\"Gomathi\", \" sankar\")"
   ]
  },
  {
   "cell_type": "code",
   "execution_count": 0,
   "metadata": {
    "application/vnd.databricks.v1+cell": {
     "cellMetadata": {
      "byteLimit": 2048000,
      "rowLimit": 10000
     },
     "inputWidgets": {},
     "nuid": "23a97be9-9293-4e4c-832c-eded345548c9",
     "showTitle": true,
     "tableResultSettingsMap": {},
     "title": "Chetna"
    }
   },
   "outputs": [],
   "source": [
    "--select (\"I guess I am the last\")"
   ]
  },
  {
   "cell_type": "code",
   "execution_count": 0,
   "metadata": {
    "application/vnd.databricks.v1+cell": {
     "cellMetadata": {},
     "inputWidgets": {},
     "nuid": "cd554765-3ea4-4032-a6e1-1f95fafe2fcc",
     "showTitle": false,
     "tableResultSettingsMap": {},
     "title": ""
    }
   },
   "outputs": [],
   "source": [
    "Approved"
   ]
  },
  {
   "cell_type": "code",
   "execution_count": 0,
   "metadata": {
    "application/vnd.databricks.v1+cell": {
     "cellMetadata": {},
     "inputWidgets": {},
     "nuid": "1efcc47f-6201-4261-a010-e6cd0491c819",
     "showTitle": false,
     "tableResultSettingsMap": {},
     "title": ""
    }
   },
   "outputs": [],
   "source": [
    "select * from tblname"
   ]
  }
 ],
 "metadata": {
  "application/vnd.databricks.v1+notebook": {
   "computePreferences": null,
   "dashboards": [],
   "environmentMetadata": {
    "base_environment": "",
    "environment_version": "2"
   },
   "inputWidgetPreferences": null,
   "language": "sql",
   "notebookMetadata": {
    "pythonIndentUnit": 4
   },
   "notebookName": "Data objects _ny",
   "widgets": {}
  },
  "language_info": {
   "name": "sql"
  }
 },
 "nbformat": 4,
 "nbformat_minor": 0
}
